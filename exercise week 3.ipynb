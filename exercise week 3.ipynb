{
 "cells": [
  {
   "cell_type": "markdown",
   "metadata": {},
   "source": [
    "#no 1"
   ]
  },
  {
   "cell_type": "code",
   "execution_count": null,
   "metadata": {},
   "outputs": [],
   "source": [
    "radius = eval(input('Enter the radius of a circle :'))\n",
    "pi = 3.142\n",
    "area = pi*(radius*radius)\n",
    "print(f'The area of the circle is : {area}㎠')"
   ]
  },
  {
   "cell_type": "markdown",
   "metadata": {},
   "source": [
    "#no 2"
   ]
  },
  {
   "cell_type": "code",
   "execution_count": 8,
   "metadata": {},
   "outputs": [
    {
     "name": "stdout",
     "output_type": "stream",
     "text": [
      "putra evan\n"
     ]
    }
   ],
   "source": [
    "first = str(input('Enter your first name'))\n",
    "last = str(input('Enter your last name'))\n",
    "print(last, first)"
   ]
  },
  {
   "cell_type": "markdown",
   "metadata": {},
   "source": [
    "#no 3\n"
   ]
  },
  {
   "cell_type": "code",
   "execution_count": 10,
   "metadata": {},
   "outputs": [
    {
     "name": "stdout",
     "output_type": "stream",
     "text": [
      "first colors =Red\n",
      "last colors = Black\n"
     ]
    }
   ],
   "source": [
    "color_list = [\"Red\", \"Green\", \"White\", \"Black\"]\n",
    "print(f'first colors ={color_list[0]}\\nlast colors = {color_list[3]}')"
   ]
  },
  {
   "cell_type": "markdown",
   "metadata": {},
   "source": [
    "#no 4\n"
   ]
  },
  {
   "cell_type": "code",
   "execution_count": 11,
   "metadata": {},
   "outputs": [
    {
     "name": "stdout",
     "output_type": "stream",
     "text": [
      "The result of n+nn+nnn = 84\n"
     ]
    }
   ],
   "source": [
    "user = int(input('Enter an integer number(N) :'))\n",
    "N = user + (user*user) + (user*user*user)\n",
    "print(f'The result of n+nn+nnn = {N}')"
   ]
  },
  {
   "cell_type": "markdown",
   "metadata": {},
   "source": [
    "#no 5"
   ]
  },
  {
   "cell_type": "code",
   "execution_count": 14,
   "metadata": {},
   "outputs": [
    {
     "name": "stdout",
     "output_type": "stream",
     "text": [
      "radius of sphere = 6\n",
      "The volume of the sphere is 904.896cm^3\n"
     ]
    }
   ],
   "source": [
    "radius = 6\n",
    "print(f'radius of sphere = {radius}')\n",
    "#volume = 4/3 * phi * radius^3\n",
    "phi = 3.142\n",
    "vol = (4/3) * phi * (radius*radius*radius)\n",
    "print(f'The volume of the sphere is {vol}cm^3')"
   ]
  },
  {
   "cell_type": "markdown",
   "metadata": {},
   "source": [
    "#no 6"
   ]
  },
  {
   "cell_type": "code",
   "execution_count": 1,
   "metadata": {},
   "outputs": [
    {
     "name": "stdout",
     "output_type": "stream",
     "text": [
      "double absolute difference = 6\n"
     ]
    }
   ],
   "source": [
    "user = eval(input('Enter the a number :'))\n",
    "if user >= 17:\n",
    "  diff = user - 17\n",
    "  abs = diff*2\n",
    "  print(f'double absolute difference = {abs}')\n",
    "elif user<17:\n",
    "  difff = 17 - user\n",
    "  print(f'difference = {difff} ')\n"
   ]
  },
  {
   "cell_type": "markdown",
   "metadata": {},
   "source": [
    "#no 7"
   ]
  },
  {
   "cell_type": "code",
   "execution_count": 2,
   "metadata": {},
   "outputs": [
    {
     "name": "stdout",
     "output_type": "stream",
     "text": [
      "thrice of their sum = 9\n"
     ]
    }
   ],
   "source": [
    "num1= eval(input('Enter 1 number :'))\n",
    "num2= eval(input('Enter 1 number :'))\n",
    "num3= eval(input('Enter 1 number :'))\n",
    "total = num1 + num2 + num3\n",
    "\n",
    "if num1 == num2 == num3:\n",
    "  sum3 = total*3\n",
    "  print(f'thrice of their sum = {sum3}')\n",
    "else:\n",
    "  print(f'total ={total}')"
   ]
  },
  {
   "cell_type": "markdown",
   "metadata": {},
   "source": [
    "#no 8"
   ]
  },
  {
   "cell_type": "code",
   "execution_count": 7,
   "metadata": {},
   "outputs": [
    {
     "name": "stdout",
     "output_type": "stream",
     "text": [
      "your given number is odd\n"
     ]
    }
   ],
   "source": [
    "user = int(input('Enter any number :'))\n",
    "\n",
    "if user%2 == 0:\n",
    "  print('your given number is even')\n",
    "else:\n",
    "  print('your given number is odd')\n"
   ]
  },
  {
   "cell_type": "markdown",
   "metadata": {},
   "source": [
    "#no 9"
   ]
  },
  {
   "cell_type": "code",
   "execution_count": 5,
   "metadata": {},
   "outputs": [
    {
     "name": "stdout",
     "output_type": "stream",
     "text": [
      "your letter is a vowel \n"
     ]
    }
   ],
   "source": [
    "user = str(input('Enter any alphabet')).lower().upper()\n",
    "\n",
    "if user == 'A' or user == 'E' or user == 'I' or user == 'O' or user == 'U':\n",
    "  print('your letter is a vowel ')\n",
    "else:\n",
    "  print('your letter is not a vowel')"
   ]
  },
  {
   "cell_type": "markdown",
   "metadata": {},
   "source": [
    "#no 10"
   ]
  },
  {
   "cell_type": "code",
   "execution_count": 2,
   "metadata": {},
   "outputs": [
    {
     "name": "stdout",
     "output_type": "stream",
     "text": [
      "The value is not contained in the group of values\n"
     ]
    }
   ],
   "source": [
    "list = ['1', '3', '5', 'python', 'coding', '10' ]\n",
    "user = input(\"Enter a any value\")\n",
    "\n",
    "if user in list:\n",
    "  print(\"the value is contained in the group of values\")\n",
    "else:\n",
    "  print('The value is not contained in the group of values')\n"
   ]
  },
  {
   "cell_type": "markdown",
   "metadata": {},
   "source": [
    "#no 11"
   ]
  },
  {
   "cell_type": "code",
   "execution_count": 32,
   "metadata": {},
   "outputs": [
    {
     "name": "stdout",
     "output_type": "stream",
     "text": [
      "==\n",
      "====\n",
      "=====\n",
      "=======\n"
     ]
    }
   ],
   "source": [
    "mylist = [2, 4, 5, 7]\n",
    "for i in mylist:\n",
    "  histo = i * '='\n",
    "  print(histo)\n"
   ]
  },
  {
   "cell_type": "markdown",
   "metadata": {},
   "source": [
    "#no 12"
   ]
  },
  {
   "cell_type": "code",
   "execution_count": null,
   "metadata": {},
   "outputs": [],
   "source": [
    "numbers = [\n",
    "386, 462, 47, 418, 907, 344, 236, 375, 823, 566, 597, 978, 328, 615, 953, 345, 399, 162, 758, 219, 918, 237, 412, 566, 826, 248, 866, 950, 626, 949, 687, 217, 815, 67, 104, 58, 512, 24, 892, 894, 767, 553, 81, 379, 843, 831, 445, 742, 717, 958,743, 527 ]\n",
    "\n",
    "for x in numbers:\n",
    "  if x % 2 == 0:\n",
    "    print(x)"
   ]
  },
  {
   "cell_type": "markdown",
   "metadata": {},
   "source": [
    "#no 13\n"
   ]
  },
  {
   "cell_type": "code",
   "execution_count": 2,
   "metadata": {},
   "outputs": [
    {
     "name": "stdout",
     "output_type": "stream",
     "text": [
      "Area of the triangle 50.0㎠\n"
     ]
    }
   ],
   "source": [
    "base = eval(input('Enter the base of the triangle'))\n",
    "height = eval(input('Enter the height of the triangle'))\n",
    "formula = float((1/2) * base * height)\n",
    "print(f'Area of the triangle is {formula}㎠')"
   ]
  },
  {
   "cell_type": "markdown",
   "metadata": {},
   "source": [
    "#no 14"
   ]
  },
  {
   "cell_type": "code",
   "execution_count": null,
   "metadata": {},
   "outputs": [],
   "source": [
    "import math\n",
    "a = int(input('Enter a number :'))\n",
    "b = int(input('Enter a number :'))\n",
    "print(math.lcm(a, b))\n"
   ]
  },
  {
   "cell_type": "markdown",
   "metadata": {},
   "source": [
    "#no 15"
   ]
  },
  {
   "cell_type": "code",
   "execution_count": 4,
   "metadata": {},
   "outputs": [
    {
     "name": "stdout",
     "output_type": "stream",
     "text": [
      " The sum of the  numbers = 0\n"
     ]
    }
   ],
   "source": [
    "a = int(input('Enter a number :'))\n",
    "b = int(input('Enter a number :'))\n",
    "c = int(input('Enter a number :'))\n",
    "\n",
    "if a==b or b==c or c==a:\n",
    "  print(f' The sum of the  numbers = 0')\n",
    "else:\n",
    "  total = a+b+c\n",
    "  print(f'The sum of the numbers is {total}')"
   ]
  },
  {
   "cell_type": "markdown",
   "metadata": {},
   "source": [
    "#no 16"
   ]
  },
  {
   "cell_type": "code",
   "execution_count": 6,
   "metadata": {},
   "outputs": [
    {
     "name": "stdout",
     "output_type": "stream",
     "text": [
      "(4 + 3) ^ 2) = 49\n"
     ]
    }
   ],
   "source": [
    "x, y = 4, 3\n",
    "formula = (x + y) * (x + y)\n",
    "print(f'({x} + {y}) ^ 2) = {formula}')"
   ]
  },
  {
   "cell_type": "markdown",
   "metadata": {},
   "source": [
    "#no 17"
   ]
  },
  {
   "cell_type": "code",
   "execution_count": 5,
   "metadata": {},
   "outputs": [
    {
     "name": "stdout",
     "output_type": "stream",
     "text": [
      "amt = 10000, int = 3.5, years = 7\n",
      "the future value is 12722.79\n"
     ]
    }
   ],
   "source": [
    "principal = eval(input('Enter the principal amount :'))\n",
    "interest = eval(input('Enter the rate of interest :'))\n",
    "years = eval(input('Enter the number of years :'))\n",
    "print(f'amt = {principal}, int = {interest}, years = {years}')\n",
    "fv = principal*((1+(interest/100))**years)\n",
    "print(f'the future value is {round(fv, 2)}')"
   ]
  },
  {
   "cell_type": "markdown",
   "metadata": {},
   "source": [
    "#no 18"
   ]
  },
  {
   "cell_type": "code",
   "execution_count": 7,
   "metadata": {},
   "outputs": [
    {
     "name": "stdout",
     "output_type": "stream",
     "text": [
      " your two coordinates = (1, 1) , (1, 2)\n",
      " the distance between 2 points is 1.0\n"
     ]
    }
   ],
   "source": [
    "import math\n",
    "x1, y1 = eval(input('enter the coordinates (x, y)'))\n",
    "x2, y2 = eval(input('enter the coordinates (x, y)'))\n",
    "print(f' your two coordinates = ({x1}, {y1}) , ({x2}, {y2})')\n",
    "distance = math.sqrt(((x2 - x1)**2)+((y2 - y1)**2))\n",
    "print(f' the distance between 2 points is {distance}')"
   ]
  },
  {
   "cell_type": "markdown",
   "metadata": {},
   "source": [
    "#no 19"
   ]
  },
  {
   "cell_type": "code",
   "execution_count": 10,
   "metadata": {},
   "outputs": [
    {
     "name": "stdout",
     "output_type": "stream",
     "text": [
      "15\n"
     ]
    }
   ],
   "source": [
    "number = int(input('Enter an integer'))\n",
    "total = 0\n",
    "for i in range(1, number+1):\n",
    "  total += i\n",
    "print(total)"
   ]
  },
  {
   "cell_type": "markdown",
   "metadata": {},
   "source": [
    "#no 20"
   ]
  },
  {
   "cell_type": "code",
   "execution_count": 11,
   "metadata": {},
   "outputs": [
    {
     "name": "stdout",
     "output_type": "stream",
     "text": [
      "enter your height\n",
      "your height in cm 162.56cm\n"
     ]
    }
   ],
   "source": [
    "print('enter your height')\n",
    "feet = int(input('feet :'))\n",
    "inch = int(input('inches :'))\n",
    "# 1 feet = 12 inch\n",
    "# 1 inch = 2.54 cm\n",
    "cm1 = (feet * 12) * 2.54\n",
    "cm2 = inch * 2.54\n",
    "cm3 = cm1 + cm2\n",
    "print(f'your height in cm {cm3}cm')"
   ]
  },
  {
   "cell_type": "markdown",
   "metadata": {},
   "source": [
    "#no 21"
   ]
  },
  {
   "cell_type": "code",
   "execution_count": 13,
   "metadata": {},
   "outputs": [
    {
     "name": "stdout",
     "output_type": "stream",
     "text": [
      "the hyprotenuse of the triangle is 5.0\n"
     ]
    }
   ],
   "source": [
    "import math\n",
    "a = eval(input('Enter the height of the triangle :'))\n",
    "b = eval(input('Enter the base of the triangle :'))\n",
    "c = math.sqrt((a**2) + (b**2))\n",
    "print(f'the hyprotenuse of the triangle is {c}')\n"
   ]
  },
  {
   "cell_type": "markdown",
   "metadata": {},
   "source": [
    "#no 22"
   ]
  },
  {
   "cell_type": "code",
   "execution_count": 15,
   "metadata": {},
   "outputs": [
    {
     "name": "stdout",
     "output_type": "stream",
     "text": [
      "body mass index = 25.97\n"
     ]
    }
   ],
   "source": [
    "height = eval(input('Enter your height in cm'))\n",
    "weight = eval(input('Enter your weight in Kg'))\n",
    "meters = height/100\n",
    "bmi = weight/(meters**2)\n",
    "print(f'body mass index = {round(bmi,2)}')"
   ]
  },
  {
   "cell_type": "markdown",
   "metadata": {},
   "source": [
    "#no 23"
   ]
  },
  {
   "cell_type": "code",
   "execution_count": 16,
   "metadata": {},
   "outputs": [
    {
     "name": "stdout",
     "output_type": "stream",
     "text": [
      " your two coordinates = (1, 2) , (3, 5)\n",
      " the midpoint of the line is (2.0, 3.5)\n"
     ]
    }
   ],
   "source": [
    "x1, y1 = eval(input('enter the coordinates (x, y)'))\n",
    "x2, y2 = eval(input('enter the coordinates (x, y)'))\n",
    "print(f' your two coordinates = ({x1}, {y1}) , ({x2}, {y2})')\n",
    "midpoint1 = (x1 + x2)/2\n",
    "midpoint2 = (y1 + y2)/2\n",
    "print(f'the midpoint of the line is ({midpoint1}, {midpoint2})')"
   ]
  },
  {
   "cell_type": "markdown",
   "metadata": {},
   "source": [
    "#no 24"
   ]
  },
  {
   "cell_type": "code",
   "execution_count": 23,
   "metadata": {},
   "outputs": [
    {
     "name": "stdout",
     "output_type": "stream",
     "text": [
      "['2002', '2009', '2016', '2023', '2037', '2044', '2051', '2058', '2072', '2079', '2086', '2093', '2107', '2114', '2121', '2128', '2142', '2149', '2156', '2163', '2177', '2184', '2191', '2198', '2212', '2219', '2226', '2233', '2247', '2254', '2261', '2268', '2282', '2289', '2296', '2303', '2317', '2324', '2331', '2338', '2352', '2359', '2366', '2373', '2387', '2394', '2401', '2408', '2422', '2429', '2436', '2443', '2457', '2464', '2471', '2478', '2492', '2499', '2506', '2513', '2527', '2534', '2541', '2548', '2562', '2569', '2576', '2583', '2597', '2604', '2611', '2618', '2632', '2639', '2646', '2653', '2667', '2674', '2681', '2688', '2702', '2709', '2716', '2723', '2737', '2744', '2751', '2758', '2772', '2779', '2786', '2793', '2807', '2814', '2821', '2828', '2842', '2849', '2856', '2863', '2877', '2884', '2891', '2898', '2912', '2919', '2926', '2933', '2947', '2954', '2961', '2968', '2982', '2989', '2996', '3003', '3017', '3024', '3031', '3038', '3052', '3059', '3066', '3073', '3087', '3094', '3101', '3108', '3122', '3129', '3136', '3143', '3157', '3164', '3171', '3178', '3192', '3199']\n"
     ]
    }
   ],
   "source": [
    "mylist = []\n",
    "for i in range (2000, 3200):\n",
    "  if i%7 == 0 and i%5 != 0:\n",
    "    mylist.append(str(i))\n",
    "print(mylist, sep=\",\")"
   ]
  }
 ],
 "metadata": {
  "kernelspec": {
   "display_name": "Python 3.10.6 64-bit ('3.10.6')",
   "language": "python",
   "name": "python3"
  },
  "language_info": {
   "codemirror_mode": {
    "name": "ipython",
    "version": 3
   },
   "file_extension": ".py",
   "mimetype": "text/x-python",
   "name": "python",
   "nbconvert_exporter": "python",
   "pygments_lexer": "ipython3",
   "version": "3.10.6"
  },
  "orig_nbformat": 4,
  "vscode": {
   "interpreter": {
    "hash": "17506505080299dd86df49ba3d6c0ba76b70cb035faaf191ce2152134a4b946e"
   }
  }
 },
 "nbformat": 4,
 "nbformat_minor": 2
}
