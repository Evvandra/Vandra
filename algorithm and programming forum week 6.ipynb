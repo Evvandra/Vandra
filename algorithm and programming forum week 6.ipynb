{
 "cells": [
  {
   "cell_type": "markdown",
   "metadata": {},
   "source": [
    "Review Questions\n",
    "1. B\n",
    "2. D\n",
    "3. A\n",
    "4. B\n",
    "5. D\n",
    "6. C\n",
    "7. A\n",
    "8. C\n",
    "9. B"
   ]
  },
  {
   "cell_type": "markdown",
   "metadata": {},
   "source": [
    "Exercise 1"
   ]
  },
  {
   "cell_type": "code",
   "execution_count": 2,
   "metadata": {},
   "outputs": [
    {
     "name": "stdout",
     "output_type": "stream",
     "text": [
      "{'gold': 550, 'pouch': ['flint', 'twine', 'gemstone'], 'backpack': ['bedroll', 'bread loaf', 'xylophone'], 'pocket': ['seashell', 'strange berry', 'lint']}\n"
     ]
    }
   ],
   "source": [
    "inventory = {\n",
    "  'gold' : 500,\n",
    "  'pouch' : ['flint', 'twine', 'gemstone'],\n",
    "  'backpack' : ['xylophone','dagger', 'bedroll','bread loaf']\n",
    "}\n",
    "inventory['pocket'] = ['seashell', 'strange berry', 'lint']\n",
    "inventory['backpack'].sort()\n",
    "inventory['backpack'].remove('dagger')\n",
    "inventory['gold'] += 50\n",
    "print(inventory)"
   ]
  },
  {
   "cell_type": "markdown",
   "metadata": {},
   "source": [
    "Exercise 2"
   ]
  },
  {
   "cell_type": "code",
   "execution_count": 5,
   "metadata": {},
   "outputs": [
    {
     "name": "stdout",
     "output_type": "stream",
     "text": [
      "banana \n",
      "prices : 4  \n",
      "stock : 6 \n",
      "apple \n",
      "prices : 2  \n",
      "stock : 0 \n",
      "orange \n",
      "prices : 1.5  \n",
      "stock : 32 \n",
      "pear \n",
      "prices : 3  \n",
      "stock : 15 \n",
      "The total money obtained from banana is 24\n",
      "The total money obtained from apple is 0\n",
      "The total money obtained from orange is 48.0\n",
      "The total money obtained from pear is 45\n",
      "The grand total of money gained from all the fruit is 117.0\n"
     ]
    }
   ],
   "source": [
    "prices = {\n",
    "  'banana' : 4,\n",
    "  'apple' : 2,\n",
    "  'orange' : 1.5,\n",
    "  'pear' : 3\n",
    "}\n",
    "\n",
    "fruit_stock = {\n",
    "  'banana' : 6,\n",
    "  'apple' : 0,\n",
    "  'orange' : 32,\n",
    "  'pear' : 15\n",
    "}\n",
    "for f in prices:\n",
    "  print(f'{f} \\nprices : {prices[f]}  \\nstock : {fruit_stock[f]} ')\n",
    "\n",
    "total = 0\n",
    "for f in prices:\n",
    "  grandtotal = prices[f] * fruit_stock[f]\n",
    "  print(f'The total money obtained from {f} is {grandtotal}')\n",
    "  total += grandtotal\n",
    "print(f'The grand total of money gained from all the fruit is {total}')\n"
   ]
  },
  {
   "cell_type": "markdown",
   "metadata": {},
   "source": [
    "Exercise 3\n"
   ]
  },
  {
   "cell_type": "code",
   "execution_count": 10,
   "metadata": {},
   "outputs": [
    {
     "name": "stdout",
     "output_type": "stream",
     "text": [
      "Your total : 5.5\n"
     ]
    }
   ],
   "source": [
    "groceries = ['banana', 'orange', 'apple']\n",
    "stock = {\n",
    " \"banana\": 6,\n",
    " \"apple\": 0,\n",
    " \"orange\": 32,\n",
    " \"pear\": 15\n",
    "}\n",
    "\n",
    "prices = {\n",
    " \"banana\": 4,\n",
    " \"apple\": 2,\n",
    " \"orange\": 1.5,\n",
    " \"pear\": 3\n",
    "}\n",
    "\n",
    "def compute_bill(food):\n",
    "  total = 0\n",
    "  for fruit in food:\n",
    "    if stock[fruit] > 0:\n",
    "      total += prices[fruit]\n",
    "      stock[fruit] -= 1\n",
    "  return total\n",
    "\n",
    "bill = compute_bill(groceries)\n",
    "print(f'Your total : {bill}')"
   ]
  },
  {
   "cell_type": "markdown",
   "metadata": {},
   "source": [
    "Exercise 4"
   ]
  },
  {
   "cell_type": "code",
   "execution_count": 16,
   "metadata": {},
   "outputs": [
    {
     "name": "stdout",
     "output_type": "stream",
     "text": [
      "Name : Eren\n",
      "Homework : [90.0, 97.0, 75.0, 92.0]\n",
      "Quizzes : [88.0, 40.0, 94.0]\n",
      "Tests : [75.0, 90.0]\n",
      "\n",
      "\n",
      "Name : Mikasa\n",
      "Homework : [100.0, 92.0, 98.0, 100.0]\n",
      "Quizzes : [82.0, 83.0, 91.0]\n",
      "Tests : [89.0, 97.0]\n",
      "\n",
      "\n",
      "Name : Armin\n",
      "Homework : [0.0, 87.0, 75.0, 22.0]\n",
      "Quizzes : [0.0, 75.0, 78.0]\n",
      "Tests : [100.0, 100.0]\n",
      "\n",
      "\n",
      " The letter grade for Eren is B\n",
      "The class average : 83.86666666666666\n",
      "The class average letter grade : B\n"
     ]
    }
   ],
   "source": [
    "eren = {\n",
    " \"name\": \"Eren\",\n",
    " \"homework\": [90.0,97.0,75.0,92.0],\n",
    " \"quizzes\": [88.0,40.0,94.0],\n",
    " \"tests\": [75.0,90.0]\n",
    "}\n",
    "mikasa = {\n",
    "\"name\": \"Mikasa\",\n",
    "\"homework\": [100.0, 92.0, 98.0, 100.0],\n",
    "\"quizzes\": [82.0, 83.0, 91.0],\n",
    "\"tests\": [89.0, 97.0]\n",
    "}\n",
    "armin = {\n",
    "\"name\": \"Armin\",\n",
    "\"homework\": [0.0, 87.0, 75.0, 22.0],\n",
    "\"quizzes\": [0.0, 75.0, 78.0],\n",
    "\"tests\": [100.0, 100.0]\n",
    "}\n",
    "\n",
    "students = [eren, mikasa, armin]\n",
    "\n",
    "for student in students:\n",
    "  for key, value in student.items():\n",
    "    print(f'{key.title()} : {value}')\n",
    "  print('\\n')\n",
    "\n",
    "def average(numbers):\n",
    "  total = float(sum(numbers))\n",
    "  average = total/len(numbers)\n",
    "  return average\n",
    "\n",
    "def get_average(student):\n",
    "  homework = average(student['homework'])\n",
    "  quizzes = average(student['quizzes'])\n",
    "  tests = average(student['tests'])\n",
    "  averages = (homework * 0.1) + (quizzes * 0.3) + (tests * 0.6)\n",
    "  return averages\n",
    "\n",
    "def get_letter_grade(score):\n",
    "  if score >= 90: \n",
    "    return \"A\"\n",
    "  elif score >= 80:\n",
    "    return \"B\"\n",
    "  elif score >= 70:\n",
    "    return \"C\"\n",
    "  elif score >= 60: \n",
    "    return \"D\"\n",
    "  else: \n",
    "    return \"F\"\n",
    "\n",
    "print(f' The letter grade for Eren is {get_letter_grade(get_average(eren))}')\n",
    "\n",
    "def get_class_average(students):\n",
    "  results = []\n",
    "  for student in students:\n",
    "    results.append( get_average(student))\n",
    "  return average(results)\n",
    "\n",
    "print(f'The class average : {get_class_average(students)}')\n",
    "print(f'The class average letter grade : {get_letter_grade(get_class_average(students))}')\n",
    "\n",
    "\n"
   ]
  }
 ],
 "metadata": {
  "kernelspec": {
   "display_name": "Python 3.10.6 64-bit ('3.10.6')",
   "language": "python",
   "name": "python3"
  },
  "language_info": {
   "codemirror_mode": {
    "name": "ipython",
    "version": 3
   },
   "file_extension": ".py",
   "mimetype": "text/x-python",
   "name": "python",
   "nbconvert_exporter": "python",
   "pygments_lexer": "ipython3",
   "version": "3.10.6"
  },
  "orig_nbformat": 4,
  "vscode": {
   "interpreter": {
    "hash": "17506505080299dd86df49ba3d6c0ba76b70cb035faaf191ce2152134a4b946e"
   }
  }
 },
 "nbformat": 4,
 "nbformat_minor": 2
}
